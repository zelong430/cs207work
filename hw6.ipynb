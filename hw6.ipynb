{
 "cells": [
  {
   "cell_type": "markdown",
   "metadata": {
    "collapsed": true
   },
   "source": [
    "## Q1.\n",
    "\n",
    "Add a __setitem__ to the python linked list implementation from the lecture (this past wednesday)."
   ]
  },
  {
   "cell_type": "markdown",
   "metadata": {},
   "source": [
    "Original code is copied from lecture node.\n",
    "\n",
    "Function setitem is implemented\n",
    "\n",
    "Doctest is modified accordingly"
   ]
  },
  {
   "cell_type": "code",
   "execution_count": 1,
   "metadata": {
    "collapsed": false
   },
   "outputs": [],
   "source": [
    "from doctest import run_docstring_examples as dtest\n",
    "import numbers\n",
    "import reprlib\n",
    "class LL:\n",
    "    \"\"\"\n",
    "    >>> A = LL()  \n",
    "    >>> A[0]\n",
    "    Traceback (most recent call last):\n",
    "        ...\n",
    "    IndexError: trying to index an empty LL\n",
    "    >>> A.insert_front(1)\n",
    "    >>> A[0]\n",
    "    1\n",
    "    >>> A.insert_back(2)\n",
    "    >>> A[1]\n",
    "    2\n",
    "    >>> A\n",
    "    LL([1,...])\n",
    "    >>> myll = LL.from_components([1,2])\n",
    "    >>> myll[1]\n",
    "    1\n",
    "    >>> len(myll)\n",
    "    2\n",
    "    >>> myll[2]\n",
    "    Traceback (most recent call last):\n",
    "        ...\n",
    "    IndexError: LL index out of range\n",
    "    >>> myll[0:1]\n",
    "    Traceback (most recent call last):\n",
    "        ...\n",
    "    TypeError: LL indices must be integers\n",
    "    >>> B = LL(1)\n",
    "    >>> B.insert_back(2)\n",
    "    >>> B[1] = 0\n",
    "    >>> B[1]\n",
    "    0\n",
    "    >>> B[2] = 0\n",
    "    Traceback (most recent call last):\n",
    "        ...\n",
    "    IndexError: LL index out of range\n",
    "    >>> B[2.1]= 0\n",
    "    Traceback (most recent call last):\n",
    "        ...\n",
    "    TypeError: LL indices must be integers\n",
    "    >>> C = LL()\n",
    "    >>> C[0] = 10\n",
    "    Traceback (most recent call last):\n",
    "        ...\n",
    "    IndexError: trying to set value an empty LL\n",
    "    \"\"\"\n",
    "    @classmethod\n",
    "    def from_components(cls, components):\n",
    "        inst = cls(components[0])\n",
    "        for c in components[1:]:\n",
    "            inst.insert_front(c)\n",
    "        return inst\n",
    "        \n",
    "    def __init__(self, head=None):\n",
    "        if head is None:\n",
    "            self._headNode = None\n",
    "        else:\n",
    "            self._headNode = [head, None]\n",
    "            \n",
    "    def insert_front(self, element):\n",
    "        new_node = [element, None]\n",
    "        new_node[1] = self._headNode\n",
    "        self._headNode = new_node\n",
    "        \n",
    "    def insert_back(self, element):\n",
    "        new_node = [element, None]\n",
    "        curr_ptr = self._headNode\n",
    "        while curr_ptr[1] is not None:\n",
    "            curr_ptr = curr_ptr[1]\n",
    "        curr_ptr[1]= new_node\n",
    "        \n",
    "    def __repr__(self):\n",
    "        class_name = type(self).__name__\n",
    "        if len(self)==0:\n",
    "            components=\"\"\n",
    "        else:\n",
    "            components = reprlib.repr(self[0])\n",
    "        return '{}([{},...])'.format(class_name,components)\n",
    "\n",
    "\n",
    "    def __len__(self):\n",
    "        curr_ptr = self._headNode\n",
    "        count = 0\n",
    "        if curr_ptr==None:\n",
    "            return 0\n",
    "        while 1:\n",
    "            count = count + 1\n",
    "            if curr_ptr[1] is None:\n",
    "                break\n",
    "            curr_ptr = curr_ptr[1]\n",
    "        return count    \n",
    "    \n",
    "    def __getitem__(self, index):\n",
    "        class_name = type(self).__name__\n",
    "        if isinstance(index, numbers.Integral): \n",
    "            curr_ptr = self._headNode\n",
    "            if curr_ptr==None:\n",
    "                msg = 'trying to index an empty {class_name}' \n",
    "                raise IndexError(msg.format(class_name=class_name))\n",
    "            next_ptr = self._headNode[1]\n",
    "            count = 0\n",
    "            while 1:\n",
    "                if index == count:\n",
    "                    return curr_ptr[0]\n",
    "                if curr_ptr[1] is None:\n",
    "                    msg = '{class_name} index out of range' \n",
    "                    raise IndexError(msg.format(class_name=class_name))       \n",
    "                count += 1\n",
    "                curr_ptr = curr_ptr[1]\n",
    "        else:\n",
    "            msg = '{class_name} indices must be integers' \n",
    "            raise TypeError(msg.format(class_name=class_name))\n",
    "            \n",
    "    def __setitem__(self, index, value):\n",
    "        class_name = type(self).__name__\n",
    "        count = 0\n",
    "        if isinstance(index, numbers.Integral):\n",
    "            curr_ptr = self._headNode\n",
    "            # if ll is empty\n",
    "            # cannot set value of the LL\n",
    "            if curr_ptr == None:\n",
    "                \"\"\"\n",
    "                if LL is empty\n",
    "                raise an error message\n",
    "                \"\"\"\n",
    "                msg = \"trying to set value an empty {}\".format(class_name) \n",
    "                raise IndexError(msg)\n",
    "            while curr_ptr != None:\n",
    "                if count == index:\n",
    "                    curr_ptr[0] = value\n",
    "                    return \n",
    "                count += 1\n",
    "                curr_ptr = curr_ptr[1]\n",
    "            # index out of range\n",
    "            print (count)\n",
    "            msg = '{} index out of range'.format(class_name) \n",
    "            raise IndexError(msg)   \n",
    "        else:\n",
    "            msg = \"{} indices must be integers\".format(class_name)\n",
    "            raise TypeError(msg)"
   ]
  },
  {
   "cell_type": "code",
   "execution_count": 2,
   "metadata": {
    "collapsed": false
   },
   "outputs": [
    {
     "name": "stdout",
     "output_type": "stream",
     "text": [
      "Finding tests in NoName\n",
      "Trying:\n",
      "    A = LL()  \n",
      "Expecting nothing\n",
      "ok\n",
      "Trying:\n",
      "    A[0]\n",
      "Expecting:\n",
      "    Traceback (most recent call last):\n",
      "        ...\n",
      "    IndexError: trying to index an empty LL\n",
      "ok\n",
      "Trying:\n",
      "    A.insert_front(1)\n",
      "Expecting nothing\n",
      "ok\n",
      "Trying:\n",
      "    A[0]\n",
      "Expecting:\n",
      "    1\n",
      "ok\n",
      "Trying:\n",
      "    A.insert_back(2)\n",
      "Expecting nothing\n",
      "ok\n",
      "Trying:\n",
      "    A[1]\n",
      "Expecting:\n",
      "    2\n",
      "ok\n",
      "Trying:\n",
      "    A\n",
      "Expecting:\n",
      "    LL([1,...])\n",
      "ok\n",
      "Trying:\n",
      "    myll = LL.from_components([1,2])\n",
      "Expecting nothing\n",
      "ok\n",
      "Trying:\n",
      "    myll[1]\n",
      "Expecting:\n",
      "    1\n",
      "ok\n",
      "Trying:\n",
      "    len(myll)\n",
      "Expecting:\n",
      "    2\n",
      "ok\n",
      "Trying:\n",
      "    myll[2]\n",
      "Expecting:\n",
      "    Traceback (most recent call last):\n",
      "        ...\n",
      "    IndexError: LL index out of range\n",
      "ok\n",
      "Trying:\n",
      "    myll[0:1]\n",
      "Expecting:\n",
      "    Traceback (most recent call last):\n",
      "        ...\n",
      "    TypeError: LL indices must be integers\n",
      "ok\n",
      "Trying:\n",
      "    B = LL(1)\n",
      "Expecting nothing\n",
      "ok\n",
      "Trying:\n",
      "    B.insert_back(2)\n",
      "Expecting nothing\n",
      "ok\n",
      "Trying:\n",
      "    B[1] = 0\n",
      "Expecting nothing\n",
      "ok\n",
      "Trying:\n",
      "    B[1]\n",
      "Expecting:\n",
      "    0\n",
      "ok\n",
      "Trying:\n",
      "    B[2] = 0\n",
      "Expecting:\n",
      "    Traceback (most recent call last):\n",
      "        ...\n",
      "    IndexError: LL index out of range\n",
      "ok\n",
      "Trying:\n",
      "    B[2.1]= 0\n",
      "Expecting:\n",
      "    Traceback (most recent call last):\n",
      "        ...\n",
      "    TypeError: LL indices must be integers\n",
      "ok\n",
      "Trying:\n",
      "    C = LL()\n",
      "Expecting nothing\n",
      "ok\n",
      "Trying:\n",
      "    C[0] = 10\n",
      "Expecting:\n",
      "    Traceback (most recent call last):\n",
      "        ...\n",
      "    IndexError: trying to set value an empty LL\n",
      "ok\n"
     ]
    }
   ],
   "source": [
    "dtest(LL, globals(), verbose = True)"
   ]
  },
  {
   "cell_type": "markdown",
   "metadata": {},
   "source": [
    "## Q2.\n",
    "\n",
    "An online mean and standard deviation algorithm.\n",
    "\n",
    "Below is a function to generate a potentially infinite stream of 1-D data."
   ]
  },
  {
   "cell_type": "code",
   "execution_count": 3,
   "metadata": {
    "collapsed": false
   },
   "outputs": [],
   "source": [
    "from random import normalvariate, random\n",
    "from itertools import count\n",
    "def make_data(m, stop=None):\n",
    "    for _ in count():\n",
    "        if stop and _ > stop:\n",
    "            break\n",
    "        yield 1.0e09 + normalvariate(0, m*random() )\n",
    "        "
   ]
  },
  {
   "cell_type": "markdown",
   "metadata": {},
   "source": [
    "Here is an implementation of an online mean algorithm..see http://www.johndcook.com/blog/standard_deviation/ and the link to http://www.johndcook.com/blog/2008/09/26/comparing-three-methods-of-computing-standard-deviation/ in-between. (Convince yourselves of the formulas...)"
   ]
  },
  {
   "cell_type": "code",
   "execution_count": 4,
   "metadata": {
    "collapsed": true
   },
   "outputs": [],
   "source": [
    "def online_mean(iterator):\n",
    "    n = 0\n",
    "    mu = 0\n",
    "    for value in iterator:\n",
    "        n += 1\n",
    "        delta = value - mu\n",
    "        mu = mu + delta/n\n",
    "        yield mu"
   ]
  },
  {
   "cell_type": "markdown",
   "metadata": {},
   "source": [
    "We use out generator functions to implement iterators:"
   ]
  },
  {
   "cell_type": "code",
   "execution_count": 5,
   "metadata": {
    "collapsed": false
   },
   "outputs": [
    {
     "data": {
      "text/plain": [
       "[1000000003.19415,\n",
       " 1000000002.8967662,\n",
       " 1000000001.962124,\n",
       " 999999998.304721,\n",
       " 999999998.3720098,\n",
       " 999999997.941303,\n",
       " 1000000008.4350623,\n",
       " 1000000000.4189994,\n",
       " 1000000001.1542222,\n",
       " 1000000004.1810062,\n",
       " 1000000002.0884391]"
      ]
     },
     "execution_count": 5,
     "metadata": {},
     "output_type": "execute_result"
    }
   ],
   "source": [
    "g = make_data(5, 10)\n",
    "list(g)"
   ]
  },
  {
   "cell_type": "code",
   "execution_count": 6,
   "metadata": {
    "collapsed": false
   },
   "outputs": [
    {
     "name": "stdout",
     "output_type": "stream",
     "text": [
      "<class 'generator'>\n"
     ]
    },
    {
     "data": {
      "text/plain": [
       "[1000000000.4630826,\n",
       " 999999998.621812,\n",
       " 999999998.7410033,\n",
       " 999999999.0450925,\n",
       " 999999998.6404763,\n",
       " 999999998.7204454,\n",
       " 999999999.7825288,\n",
       " 999999999.4003303,\n",
       " 999999999.9952348,\n",
       " 999999999.884196,\n",
       " 999999999.9164256,\n",
       " 999999999.9509757,\n",
       " 1000000000.4666586,\n",
       " 1000000000.458703,\n",
       " 1000000000.4155964,\n",
       " 1000000000.5327511,\n",
       " 1000000000.403445,\n",
       " 1000000000.1502666,\n",
       " 1000000000.1274673,\n",
       " 1000000000.0696876,\n",
       " 999999999.8007689,\n",
       " 1000000000.0077085,\n",
       " 1000000000.0394739,\n",
       " 1000000000.0534581,\n",
       " 1000000000.1025331,\n",
       " 1000000000.090815,\n",
       " 1000000000.2069291,\n",
       " 1000000000.4286197,\n",
       " 1000000000.412312,\n",
       " 1000000000.4024448,\n",
       " 1000000000.4866325,\n",
       " 1000000000.6204807,\n",
       " 1000000000.6146463,\n",
       " 1000000000.4100184,\n",
       " 1000000000.388786,\n",
       " 1000000000.372314,\n",
       " 1000000000.4771631,\n",
       " 1000000000.5938959,\n",
       " 1000000000.5941467,\n",
       " 1000000000.52115,\n",
       " 1000000000.5315393,\n",
       " 1000000000.4654974,\n",
       " 1000000000.4722108,\n",
       " 1000000000.4457766,\n",
       " 1000000000.5441672,\n",
       " 1000000000.5314956,\n",
       " 1000000000.4949057,\n",
       " 1000000000.3513783,\n",
       " 1000000000.3514457,\n",
       " 1000000000.3801615,\n",
       " 1000000000.3412075,\n",
       " 1000000000.3404197,\n",
       " 1000000000.3374805,\n",
       " 1000000000.3365856,\n",
       " 1000000000.2884483,\n",
       " 1000000000.2638987,\n",
       " 1000000000.2474711,\n",
       " 1000000000.2484441,\n",
       " 1000000000.3223902,\n",
       " 1000000000.3323772,\n",
       " 1000000000.3094262,\n",
       " 1000000000.2898982,\n",
       " 1000000000.3179617,\n",
       " 1000000000.3389419,\n",
       " 1000000000.3175321,\n",
       " 1000000000.3851184,\n",
       " 1000000000.3830372,\n",
       " 1000000000.3783141,\n",
       " 1000000000.354902,\n",
       " 1000000000.2874731,\n",
       " 1000000000.3463296,\n",
       " 1000000000.3199781,\n",
       " 1000000000.3201488,\n",
       " 1000000000.3384247,\n",
       " 1000000000.3466597,\n",
       " 1000000000.3411578,\n",
       " 1000000000.3774002,\n",
       " 1000000000.3679339,\n",
       " 1000000000.378919,\n",
       " 1000000000.363201,\n",
       " 1000000000.2772173,\n",
       " 1000000000.2971207,\n",
       " 1000000000.2875974,\n",
       " 1000000000.2807608,\n",
       " 1000000000.2432494,\n",
       " 1000000000.2371911,\n",
       " 1000000000.216109,\n",
       " 1000000000.2027608,\n",
       " 1000000000.1045125,\n",
       " 1000000000.1052936,\n",
       " 1000000000.1043389,\n",
       " 1000000000.1079798,\n",
       " 1000000000.1220257,\n",
       " 1000000000.1145437,\n",
       " 1000000000.1557983,\n",
       " 1000000000.1862324,\n",
       " 1000000000.2319057,\n",
       " 1000000000.2081761,\n",
       " 1000000000.2013159,\n",
       " 1000000000.1745956,\n",
       " 1000000000.1772603]"
      ]
     },
     "execution_count": 6,
     "metadata": {},
     "output_type": "execute_result"
    }
   ],
   "source": [
    "g = online_mean(make_data(5, 100))\n",
    "print(type(g))\n",
    "list(g)"
   ]
  },
  {
   "cell_type": "markdown",
   "metadata": {},
   "source": [
    "### 2.1\n",
    "\n",
    "Implement the standard deviation algorithm as a generator function as\n",
    "\n",
    "```python\n",
    "def online_mean_dev(iterator):\n",
    "    BLA BLA\n",
    "    if n > 1:\n",
    "        stddev = math.sqrt(dev_accum/(n-1))\n",
    "        yield (n, value, mu, stddev)\n",
    "```"
   ]
  },
  {
   "cell_type": "code",
   "execution_count": 7,
   "metadata": {
    "collapsed": true
   },
   "outputs": [],
   "source": [
    "# your code here\n",
    "import math\n",
    "def online_mean_dev(iterator):\n",
    "    n = 0\n",
    "    m_new = 0 \n",
    "    dev_accum = 0\n",
    "    for value in iterator:\n",
    "        n += 1\n",
    "        m_old = m_new\n",
    "        m_new = m_old + (value - m_old) / n\n",
    "        dev_accum = dev_accum + (value - m_old) * (value - m_new)\n",
    "        if n > 1:\n",
    "            stddev = math.sqrt(dev_accum/(n-1))\n",
    "            yield (n, value, m_new, stddev)"
   ]
  },
  {
   "cell_type": "markdown",
   "metadata": {},
   "source": [
    "Here we make 100000 element data, and run this iterator on it (imagine running this on a time-series being slowly read from disk"
   ]
  },
  {
   "cell_type": "code",
   "execution_count": 8,
   "metadata": {
    "collapsed": true
   },
   "outputs": [],
   "source": [
    "data_with_stats = online_mean_dev(make_data(5, 100000))"
   ]
  },
  {
   "cell_type": "markdown",
   "metadata": {},
   "source": [
    "## Q3.\n",
    "\n",
    "Let's do Anomaly detection. Write a routine `is_ok`:\n",
    "\n",
    "```python\n",
    "def is_ok(level, t)\n",
    "```\n",
    "\n",
    "which takes a tuple like the one yielded by your code above and returns True if the value is inbetween `level`-$\\sigma$ of the mean."
   ]
  },
  {
   "cell_type": "code",
   "execution_count": 9,
   "metadata": {
    "collapsed": true
   },
   "outputs": [],
   "source": [
    "#your code here\n",
    "def is_ok(level, t):\n",
    "    value = t[1]\n",
    "    mu = t[2]\n",
    "    stddev = t[3]\n",
    "    return abs(value - mu) <= (level * stddev)"
   ]
  },
  {
   "cell_type": "markdown",
   "metadata": {},
   "source": [
    "We use this function to create a predicate passed through to `itertools.filterfalse` which is then used to obtain an iterator on the anomalies."
   ]
  },
  {
   "cell_type": "code",
   "execution_count": 10,
   "metadata": {
    "collapsed": true
   },
   "outputs": [],
   "source": [
    "from itertools import filterfalse\n",
    "pred = lambda t: is_ok(5, t)\n",
    "anomalies = filterfalse(pred, data_with_stats)"
   ]
  },
  {
   "cell_type": "markdown",
   "metadata": {},
   "source": [
    "We materialize the anomalies..."
   ]
  },
  {
   "cell_type": "code",
   "execution_count": 11,
   "metadata": {
    "collapsed": false
   },
   "outputs": [
    {
     "data": {
      "text/plain": [
       "[(772, 999999984.4241695, 1000000000.075807, 2.899203832567729),\n",
       " (1237, 999999983.010853, 1000000000.0566151, 2.887264866766766),\n",
       " (1705, 1000000017.1839157, 1000000000.0405992, 2.9203974341708014),\n",
       " (5018, 1000000018.4165851, 1000000000.053431, 2.908779214017119),\n",
       " (6010, 999999983.7006681, 1000000000.0294349, 2.918649546703853),\n",
       " (8150, 1000000015.9342535, 1000000000.047375, 2.956723191129256),\n",
       " (11826, 1000000015.2667779, 1000000000.0379072, 2.9160061417533796),\n",
       " (11967, 999999985.0742236, 1000000000.028074, 2.919783829646031),\n",
       " (16417, 999999978.2481424, 1000000000.0301466, 2.919417956002177),\n",
       " (24957, 1000000017.0598239, 1000000000.027854, 2.910233417483249),\n",
       " (33039, 1000000014.5258906, 1000000000.0184902, 2.8984024096294116),\n",
       " (36652, 999999982.3275702, 1000000000.0225033, 2.8953285258143806),\n",
       " (43693, 999999981.7833346, 1000000000.0223655, 2.8973838474278963),\n",
       " (47741, 1000000015.0087019, 1000000000.0242573, 2.8946083243886203),\n",
       " (57499, 1000000015.934862, 1000000000.0175492, 2.887574000316538),\n",
       " (61895, 999999983.0948895, 1000000000.0169587, 2.8867004887173477),\n",
       " (62340, 1000000014.7718402, 1000000000.0173523, 2.887316501179447),\n",
       " (68549, 999999985.4659123, 1000000000.0176803, 2.884498811718968),\n",
       " (68734, 999999983.8518975, 1000000000.0176345, 2.885525716114194),\n",
       " (71785, 1000000018.6275043, 1000000000.0198433, 2.8863440922055466),\n",
       " (73467, 999999984.7068932, 1000000000.019147, 2.8873398752703916),\n",
       " (75699, 1000000017.5932235, 1000000000.0221595, 2.8897216818679987),\n",
       " (85250, 999999985.6062741, 1000000000.01911, 2.8816048425270187),\n",
       " (86986, 1000000015.9157144, 1000000000.0199732, 2.883726338660969),\n",
       " (87613, 1000000014.8877364, 1000000000.0205423, 2.884982737475055),\n",
       " (87808, 999999985.376925, 1000000000.020232, 2.885182023815069),\n",
       " (93787, 1000000015.3135778, 1000000000.0170046, 2.8879574291443615),\n",
       " (95451, 999999985.4595778, 1000000000.0158947, 2.8877155092438036)]"
      ]
     },
     "execution_count": 11,
     "metadata": {},
     "output_type": "execute_result"
    }
   ],
   "source": [
    "list(anomalies)#materialize"
   ]
  },
  {
   "cell_type": "markdown",
   "metadata": {},
   "source": [
    "## To think of, but not hand in\n",
    "\n",
    "What kinds of anomalies will this algorithm pick up? What kinds would a shorter \"window\" of anomaly detection, like 100 points around the time in question pick? How might you create an algorithm which does window based averaging? (hint: the window size is small compared to the time series size). \n",
    "\n",
    "Finally think a bit of how you might implement all of this in a production environment..remember that data streaming in might get backed up when you handle an anomaly.\n",
    "\n",
    "(Some inspiration might accrue if you look at the docs for `collections.deque`)."
   ]
  }
 ],
 "metadata": {
  "anaconda-cloud": {},
  "kernelspec": {
   "display_name": "Python [py35]",
   "language": "python",
   "name": "Python [py35]"
  },
  "language_info": {
   "codemirror_mode": {
    "name": "ipython",
    "version": 3
   },
   "file_extension": ".py",
   "mimetype": "text/x-python",
   "name": "python",
   "nbconvert_exporter": "python",
   "pygments_lexer": "ipython3",
   "version": "3.5.2"
  }
 },
 "nbformat": 4,
 "nbformat_minor": 0
}
